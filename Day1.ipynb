{
 "cells": [
  {
   "cell_type": "code",
   "execution_count": 69,
   "id": "46deb724",
   "metadata": {},
   "outputs": [],
   "source": [
    "import numpy as np\n",
    "import pandas as pd\n",
    "import matplotlib.pyplot as plt\n",
    "import seaborn as sns"
   ]
  },
  {
   "cell_type": "code",
   "execution_count": 70,
   "id": "557331f5",
   "metadata": {},
   "outputs": [],
   "source": [
    "df=pd.read_csv(\"train.csv\")"
   ]
  },
  {
   "cell_type": "code",
   "execution_count": 71,
   "id": "25fe0c09",
   "metadata": {},
   "outputs": [
    {
     "data": {
      "text/html": [
       "<div>\n",
       "<style scoped>\n",
       "    .dataframe tbody tr th:only-of-type {\n",
       "        vertical-align: middle;\n",
       "    }\n",
       "\n",
       "    .dataframe tbody tr th {\n",
       "        vertical-align: top;\n",
       "    }\n",
       "\n",
       "    .dataframe thead th {\n",
       "        text-align: right;\n",
       "    }\n",
       "</style>\n",
       "<table border=\"1\" class=\"dataframe\">\n",
       "  <thead>\n",
       "    <tr style=\"text-align: right;\">\n",
       "      <th></th>\n",
       "      <th>PassengerId</th>\n",
       "      <th>Survived</th>\n",
       "      <th>Pclass</th>\n",
       "      <th>Name</th>\n",
       "      <th>Sex</th>\n",
       "      <th>Age</th>\n",
       "      <th>SibSp</th>\n",
       "      <th>Parch</th>\n",
       "      <th>Ticket</th>\n",
       "      <th>Fare</th>\n",
       "      <th>Cabin</th>\n",
       "      <th>Embarked</th>\n",
       "    </tr>\n",
       "  </thead>\n",
       "  <tbody>\n",
       "    <tr>\n",
       "      <th>0</th>\n",
       "      <td>1</td>\n",
       "      <td>0</td>\n",
       "      <td>3</td>\n",
       "      <td>Braund, Mr. Owen Harris</td>\n",
       "      <td>male</td>\n",
       "      <td>22.0</td>\n",
       "      <td>1</td>\n",
       "      <td>0</td>\n",
       "      <td>A/5 21171</td>\n",
       "      <td>7.2500</td>\n",
       "      <td>NaN</td>\n",
       "      <td>S</td>\n",
       "    </tr>\n",
       "    <tr>\n",
       "      <th>1</th>\n",
       "      <td>2</td>\n",
       "      <td>1</td>\n",
       "      <td>1</td>\n",
       "      <td>Cumings, Mrs. John Bradley (Florence Briggs Th...</td>\n",
       "      <td>female</td>\n",
       "      <td>38.0</td>\n",
       "      <td>1</td>\n",
       "      <td>0</td>\n",
       "      <td>PC 17599</td>\n",
       "      <td>71.2833</td>\n",
       "      <td>C85</td>\n",
       "      <td>C</td>\n",
       "    </tr>\n",
       "    <tr>\n",
       "      <th>2</th>\n",
       "      <td>3</td>\n",
       "      <td>1</td>\n",
       "      <td>3</td>\n",
       "      <td>Heikkinen, Miss. Laina</td>\n",
       "      <td>female</td>\n",
       "      <td>26.0</td>\n",
       "      <td>0</td>\n",
       "      <td>0</td>\n",
       "      <td>STON/O2. 3101282</td>\n",
       "      <td>7.9250</td>\n",
       "      <td>NaN</td>\n",
       "      <td>S</td>\n",
       "    </tr>\n",
       "    <tr>\n",
       "      <th>3</th>\n",
       "      <td>4</td>\n",
       "      <td>1</td>\n",
       "      <td>1</td>\n",
       "      <td>Futrelle, Mrs. Jacques Heath (Lily May Peel)</td>\n",
       "      <td>female</td>\n",
       "      <td>35.0</td>\n",
       "      <td>1</td>\n",
       "      <td>0</td>\n",
       "      <td>113803</td>\n",
       "      <td>53.1000</td>\n",
       "      <td>C123</td>\n",
       "      <td>S</td>\n",
       "    </tr>\n",
       "    <tr>\n",
       "      <th>4</th>\n",
       "      <td>5</td>\n",
       "      <td>0</td>\n",
       "      <td>3</td>\n",
       "      <td>Allen, Mr. William Henry</td>\n",
       "      <td>male</td>\n",
       "      <td>35.0</td>\n",
       "      <td>0</td>\n",
       "      <td>0</td>\n",
       "      <td>373450</td>\n",
       "      <td>8.0500</td>\n",
       "      <td>NaN</td>\n",
       "      <td>S</td>\n",
       "    </tr>\n",
       "  </tbody>\n",
       "</table>\n",
       "</div>"
      ],
      "text/plain": [
       "   PassengerId  Survived  Pclass  \\\n",
       "0            1         0       3   \n",
       "1            2         1       1   \n",
       "2            3         1       3   \n",
       "3            4         1       1   \n",
       "4            5         0       3   \n",
       "\n",
       "                                                Name     Sex   Age  SibSp  \\\n",
       "0                            Braund, Mr. Owen Harris    male  22.0      1   \n",
       "1  Cumings, Mrs. John Bradley (Florence Briggs Th...  female  38.0      1   \n",
       "2                             Heikkinen, Miss. Laina  female  26.0      0   \n",
       "3       Futrelle, Mrs. Jacques Heath (Lily May Peel)  female  35.0      1   \n",
       "4                           Allen, Mr. William Henry    male  35.0      0   \n",
       "\n",
       "   Parch            Ticket     Fare Cabin Embarked  \n",
       "0      0         A/5 21171   7.2500   NaN        S  \n",
       "1      0          PC 17599  71.2833   C85        C  \n",
       "2      0  STON/O2. 3101282   7.9250   NaN        S  \n",
       "3      0            113803  53.1000  C123        S  \n",
       "4      0            373450   8.0500   NaN        S  "
      ]
     },
     "execution_count": 71,
     "metadata": {},
     "output_type": "execute_result"
    }
   ],
   "source": [
    "df.head()"
   ]
  },
  {
   "cell_type": "markdown",
   "id": "dca4609d",
   "metadata": {},
   "source": [
    "1- What is the survival rate among passengers?\n",
    "\n",
    "Analyze the overall percentage of passengers who survived (Survived column)."
   ]
  },
  {
   "cell_type": "code",
   "execution_count": 10,
   "id": "d6ab8406",
   "metadata": {},
   "outputs": [
    {
     "data": {
      "text/plain": [
       "0    62.0\n",
       "1    38.0\n",
       "Name: Survived, dtype: float64"
      ]
     },
     "execution_count": 10,
     "metadata": {},
     "output_type": "execute_result"
    }
   ],
   "source": [
    "np.round(df['Survived'].value_counts()/len(df[\"Survived\"])*100,0)"
   ]
  },
  {
   "cell_type": "markdown",
   "id": "3b15bc24",
   "metadata": {},
   "source": [
    "- According to the given data 62% will be die and 38% will be live"
   ]
  },
  {
   "cell_type": "markdown",
   "id": "849596bf",
   "metadata": {},
   "source": [
    "<p> ____________________________________________ </p>"
   ]
  },
  {
   "cell_type": "markdown",
   "id": "6b9e9e4d",
   "metadata": {},
   "source": [
    "2- How does survival rate vary by passenger class (Pclass)?\n",
    "\n",
    "Compare survival rates across the different passenger classes (1st, 2nd, 3rd)."
   ]
  },
  {
   "cell_type": "code",
   "execution_count": 14,
   "id": "f63726f4",
   "metadata": {},
   "outputs": [
    {
     "data": {
      "text/html": [
       "<div>\n",
       "<style scoped>\n",
       "    .dataframe tbody tr th:only-of-type {\n",
       "        vertical-align: middle;\n",
       "    }\n",
       "\n",
       "    .dataframe tbody tr th {\n",
       "        vertical-align: top;\n",
       "    }\n",
       "\n",
       "    .dataframe thead th {\n",
       "        text-align: right;\n",
       "    }\n",
       "</style>\n",
       "<table border=\"1\" class=\"dataframe\">\n",
       "  <thead>\n",
       "    <tr style=\"text-align: right;\">\n",
       "      <th>Pclass</th>\n",
       "      <th>1</th>\n",
       "      <th>2</th>\n",
       "      <th>3</th>\n",
       "    </tr>\n",
       "    <tr>\n",
       "      <th>Survived</th>\n",
       "      <th></th>\n",
       "      <th></th>\n",
       "      <th></th>\n",
       "    </tr>\n",
       "  </thead>\n",
       "  <tbody>\n",
       "    <tr>\n",
       "      <th>0</th>\n",
       "      <td>37.0</td>\n",
       "      <td>53.0</td>\n",
       "      <td>76.0</td>\n",
       "    </tr>\n",
       "    <tr>\n",
       "      <th>1</th>\n",
       "      <td>63.0</td>\n",
       "      <td>47.0</td>\n",
       "      <td>24.0</td>\n",
       "    </tr>\n",
       "  </tbody>\n",
       "</table>\n",
       "</div>"
      ],
      "text/plain": [
       "Pclass       1     2     3\n",
       "Survived                  \n",
       "0         37.0  53.0  76.0\n",
       "1         63.0  47.0  24.0"
      ]
     },
     "execution_count": 14,
     "metadata": {},
     "output_type": "execute_result"
    }
   ],
   "source": [
    "np.round(pd.crosstab(df['Survived'],df[\"Pclass\"],normalize='columns')*100,0)"
   ]
  },
  {
   "cell_type": "markdown",
   "id": "b84c3f65",
   "metadata": {},
   "source": [
    "- According to this from pclass 1 37% will be die and 63% will be live\n",
    "- from pclass 2 53% will be die and 47 % will be live\n",
    "- from pclass 3 76% will be die and 24 % will be live"
   ]
  },
  {
   "cell_type": "markdown",
   "id": "a92d6ad0",
   "metadata": {},
   "source": [
    "<p>_______________________________________________</p>"
   ]
  },
  {
   "cell_type": "markdown",
   "id": "65154f83",
   "metadata": {},
   "source": [
    "3- Is there a significant difference in survival rates between males and females (Sex)?\n",
    "\n",
    "Examine the survival rate based on gender."
   ]
  },
  {
   "cell_type": "code",
   "execution_count": 17,
   "id": "4d9fdead",
   "metadata": {},
   "outputs": [
    {
     "data": {
      "text/html": [
       "<div>\n",
       "<style scoped>\n",
       "    .dataframe tbody tr th:only-of-type {\n",
       "        vertical-align: middle;\n",
       "    }\n",
       "\n",
       "    .dataframe tbody tr th {\n",
       "        vertical-align: top;\n",
       "    }\n",
       "\n",
       "    .dataframe thead th {\n",
       "        text-align: right;\n",
       "    }\n",
       "</style>\n",
       "<table border=\"1\" class=\"dataframe\">\n",
       "  <thead>\n",
       "    <tr style=\"text-align: right;\">\n",
       "      <th>Sex</th>\n",
       "      <th>female</th>\n",
       "      <th>male</th>\n",
       "    </tr>\n",
       "    <tr>\n",
       "      <th>Survived</th>\n",
       "      <th></th>\n",
       "      <th></th>\n",
       "    </tr>\n",
       "  </thead>\n",
       "  <tbody>\n",
       "    <tr>\n",
       "      <th>0</th>\n",
       "      <td>26.0</td>\n",
       "      <td>81.0</td>\n",
       "    </tr>\n",
       "    <tr>\n",
       "      <th>1</th>\n",
       "      <td>74.0</td>\n",
       "      <td>19.0</td>\n",
       "    </tr>\n",
       "  </tbody>\n",
       "</table>\n",
       "</div>"
      ],
      "text/plain": [
       "Sex       female  male\n",
       "Survived              \n",
       "0           26.0  81.0\n",
       "1           74.0  19.0"
      ]
     },
     "execution_count": 17,
     "metadata": {},
     "output_type": "execute_result"
    }
   ],
   "source": [
    "np.round(pd.crosstab(df['Survived'],df['Sex'],normalize='columns')*100,0)"
   ]
  },
  {
   "cell_type": "markdown",
   "id": "ec361c7a",
   "metadata": {},
   "source": [
    "- 26% female are die and 74% are live\n",
    "- 81% male are die and only 19% are live"
   ]
  },
  {
   "cell_type": "markdown",
   "id": "08bc3380",
   "metadata": {},
   "source": [
    "<p> _____________________________________________</p>"
   ]
  },
  {
   "cell_type": "markdown",
   "id": "625d4346",
   "metadata": {},
   "source": [
    "4- How does age (Age) affect the likelihood of survival?\n",
    "\n",
    "Analyze whether younger or older passengers had higher survival rates."
   ]
  },
  {
   "cell_type": "code",
   "execution_count": 36,
   "id": "089f0d25",
   "metadata": {},
   "outputs": [
    {
     "data": {
      "image/png": "[encoded data removed]",
      "text/plain": [
       "<Figure size 640x480 with 1 Axes>"
      ]
     },
     "metadata": {},
     "output_type": "display_data"
    }
   ],
   "source": [
    "sns.kdeplot(df[df['Survived']==1]['Age'],label=\"Survived\",shade=True)\n",
    "sns.kdeplot(df[df[\"Survived\"]==0]['Age'],label=\"Not Survived\",shade=True)\n",
    "plt.legend()\n",
    "plt.show()"
   ]
  },
  {
   "cell_type": "markdown",
   "id": "38747b1f",
   "metadata": {},
   "source": [
    "- According to the graph from 0.5 to 15 or 16 ages people are live and from 17 to 36 are die and then from 36 to 42 are live and then die"
   ]
  },
  {
   "cell_type": "code",
   "execution_count": 33,
   "id": "a7b1e7ca",
   "metadata": {},
   "outputs": [
    {
     "name": "stdout",
     "output_type": "stream",
     "text": [
      "Mean age of survivors: 28.343689655172415\n",
      "Median age of survivors: 28.0\n",
      "Mean age of non-survivors: 30.62617924528302\n",
      "Median age of non-survivors: 28.0\n"
     ]
    }
   ],
   "source": [
    "# Mean and median age of survivors\n",
    "survivors = df[df['Survived'] == 1]\n",
    "non_survivors = df[df['Survived'] == 0]\n",
    "\n",
    "print(f\"Mean age of survivors: {survivors['Age'].mean()}\")\n",
    "print(f\"Median age of survivors: {survivors['Age'].median()}\")\n",
    "\n",
    "print(f\"Mean age of non-survivors: {non_survivors['Age'].mean()}\")\n",
    "print(f\"Median age of non-survivors: {non_survivors['Age'].median()}\")"
   ]
  },
  {
   "cell_type": "markdown",
   "id": "2a4592c8",
   "metadata": {},
   "source": [
    "<p> ____________________________________________</P>"
   ]
  },
  {
   "cell_type": "markdown",
   "id": "17d44e9d",
   "metadata": {},
   "source": [
    "5- Did family size (combining SibSp and Parch) have any effect on survival?\n",
    "\n",
    "Investigate how traveling with siblings, spouses, parents, or children influenced survival chances."
   ]
  },
  {
   "cell_type": "code",
   "execution_count": 79,
   "id": "22d016b4",
   "metadata": {},
   "outputs": [],
   "source": [
    "df[\"familly-size\"]=df['SibSp'] + df['Parch'] + 1"
   ]
  },
  {
   "cell_type": "code",
   "execution_count": 80,
   "id": "c340b46f",
   "metadata": {},
   "outputs": [
    {
     "data": {
      "image/png": "[encoded data removed]",
      "text/plain": [
       "<Figure size 640x480 with 1 Axes>"
      ]
     },
     "metadata": {},
     "output_type": "display_data"
    }
   ],
   "source": [
    "sns.barplot(x=df['familly-size'],y=df['Survived']);"
   ]
  },
  {
   "cell_type": "code",
   "execution_count": 47,
   "id": "dc845477",
   "metadata": {},
   "outputs": [
    {
     "data": {
      "text/plain": [
       "familly-size\n",
       "1     30.0\n",
       "2     55.0\n",
       "3     58.0\n",
       "4     72.0\n",
       "5     20.0\n",
       "6     14.0\n",
       "7     33.0\n",
       "8      0.0\n",
       "11     0.0\n",
       "Name: Survived, dtype: float64"
      ]
     },
     "execution_count": 47,
     "metadata": {},
     "output_type": "execute_result"
    }
   ],
   "source": [
    "np.round((df.groupby(['familly-size'])['Survived'].mean())*100,0)"
   ]
  },
  {
   "cell_type": "markdown",
   "id": "8d912a03",
   "metadata": {},
   "source": [
    "<p> ________________________________________________</p>"
   ]
  },
  {
   "cell_type": "markdown",
   "id": "f4416349",
   "metadata": {},
   "source": [
    "6- What is the distribution of ticket fares (Fare) among passengers, and does fare impact survival?\n",
    "\n",
    "Look at the distribution of fares and compare survival rates for different fare ranges."
   ]
  },
  {
   "cell_type": "code",
   "execution_count": 54,
   "id": "06007e57",
   "metadata": {},
   "outputs": [
    {
     "data": {
      "image/png": "[encoded data removed]",
      "text/plain": [
       "<Figure size 640x480 with 1 Axes>"
      ]
     },
     "metadata": {},
     "output_type": "display_data"
    }
   ],
   "source": [
    "sns.kdeplot(df[df['Survived']==1]['Fare'],label='Survived',shade=True)\n",
    "sns.kdeplot(df[df['Survived']==0]['Fare'],label='Not Survived',shade=True)\n",
    "plt.legend()\n",
    "plt.show()"
   ]
  },
  {
   "cell_type": "markdown",
   "id": "3879e611",
   "metadata": {},
   "source": [
    "- Graph clearlly show that fare increase the decrease the chance of die"
   ]
  },
  {
   "cell_type": "markdown",
   "id": "0db72798",
   "metadata": {},
   "source": [
    "<p> ________________________________________________</p>"
   ]
  },
  {
   "cell_type": "markdown",
   "id": "e08acb06",
   "metadata": {},
   "source": [
    "7- How did the embarkation point (Embarked) affect survival rates?\n",
    "\n",
    "Analyze if passengers boarding at different locations (C, Q, S) had different survival rates."
   ]
  },
  {
   "cell_type": "code",
   "execution_count": 72,
   "id": "794851bc",
   "metadata": {},
   "outputs": [],
   "source": [
    "df['Embarked']=df['Embarked'].dropna()"
   ]
  },
  {
   "cell_type": "code",
   "execution_count": 73,
   "id": "85510b5f",
   "metadata": {},
   "outputs": [
    {
     "data": {
      "text/plain": [
       "2"
      ]
     },
     "execution_count": 73,
     "metadata": {},
     "output_type": "execute_result"
    }
   ],
   "source": [
    "df['Embarked'].isnull().sum()"
   ]
  },
  {
   "cell_type": "code",
   "execution_count": 75,
   "id": "59a23ac6",
   "metadata": {},
   "outputs": [
    {
     "data": {
      "image/png": "[encoded data removed]",
      "text/plain": [
       "<Figure size 640x480 with 1 Axes>"
      ]
     },
     "metadata": {},
     "output_type": "display_data"
    }
   ],
   "source": [
    "sns.barplot(x=df['Embarked'],y=df['Survived']);"
   ]
  },
  {
   "cell_type": "markdown",
   "id": "ba9e3bc9",
   "metadata": {},
   "source": [
    "- According to the given graph the C have more live"
   ]
  },
  {
   "cell_type": "code",
   "execution_count": 78,
   "id": "bc66b506",
   "metadata": {},
   "outputs": [
    {
     "data": {
      "text/html": [
       "<div>\n",
       "<style scoped>\n",
       "    .dataframe tbody tr th:only-of-type {\n",
       "        vertical-align: middle;\n",
       "    }\n",
       "\n",
       "    .dataframe tbody tr th {\n",
       "        vertical-align: top;\n",
       "    }\n",
       "\n",
       "    .dataframe thead th {\n",
       "        text-align: right;\n",
       "    }\n",
       "</style>\n",
       "<table border=\"1\" class=\"dataframe\">\n",
       "  <thead>\n",
       "    <tr style=\"text-align: right;\">\n",
       "      <th>Embarked</th>\n",
       "      <th>C</th>\n",
       "      <th>Q</th>\n",
       "      <th>S</th>\n",
       "    </tr>\n",
       "    <tr>\n",
       "      <th>Survived</th>\n",
       "      <th></th>\n",
       "      <th></th>\n",
       "      <th></th>\n",
       "    </tr>\n",
       "  </thead>\n",
       "  <tbody>\n",
       "    <tr>\n",
       "      <th>0</th>\n",
       "      <td>45.0</td>\n",
       "      <td>61.0</td>\n",
       "      <td>66.0</td>\n",
       "    </tr>\n",
       "    <tr>\n",
       "      <th>1</th>\n",
       "      <td>55.0</td>\n",
       "      <td>39.0</td>\n",
       "      <td>34.0</td>\n",
       "    </tr>\n",
       "  </tbody>\n",
       "</table>\n",
       "</div>"
      ],
      "text/plain": [
       "Embarked     C     Q     S\n",
       "Survived                  \n",
       "0         45.0  61.0  66.0\n",
       "1         55.0  39.0  34.0"
      ]
     },
     "execution_count": 78,
     "metadata": {},
     "output_type": "execute_result"
    }
   ],
   "source": [
    "np.round(pd.crosstab(df['Survived'],df['Embarked'],normalize='columns')*100,0)"
   ]
  },
  {
   "cell_type": "markdown",
   "id": "7269ea24",
   "metadata": {},
   "source": [
    "<p> _____________________________________________</p>"
   ]
  },
  {
   "cell_type": "markdown",
   "id": "71609d37",
   "metadata": {},
   "source": [
    "8- What was the survival rate of passengers based on cabin assignment (Cabin)?\n",
    "\n",
    "Investigate whether having a cabin or its location played a role in survival."
   ]
  },
  {
   "cell_type": "code",
   "execution_count": 60,
   "id": "e178af65",
   "metadata": {},
   "outputs": [
    {
     "data": {
      "text/plain": [
       "77.0"
      ]
     },
     "execution_count": 60,
     "metadata": {},
     "output_type": "execute_result"
    }
   ],
   "source": [
    "np.round(df['Cabin'].isnull().sum()/len(df['Cabin'])*100,0)"
   ]
  },
  {
   "cell_type": "markdown",
   "id": "0a3f5e84",
   "metadata": {},
   "source": [
    "- 77% are missing value so we can not say about that"
   ]
  },
  {
   "cell_type": "markdown",
   "id": "fcfe0b53",
   "metadata": {},
   "source": [
    "<p> _____________________________________________</p>"
   ]
  },
  {
   "cell_type": "markdown",
   "id": "4676e391",
   "metadata": {},
   "source": [
    "9- Were passengers traveling alone (SibSp + Parch = 0) more or less likely to survive?\n",
    "\n",
    "Compare the survival rates between passengers traveling alone versus those with family."
   ]
  },
  {
   "cell_type": "code",
   "execution_count": 86,
   "id": "1b9d3436",
   "metadata": {},
   "outputs": [
    {
     "data": {
      "image/png": "[encoded data removed]",
      "text/plain": [
       "<Figure size 640x480 with 1 Axes>"
      ]
     },
     "metadata": {},
     "output_type": "display_data"
    }
   ],
   "source": [
    "sns.kdeplot(df[df['familly-size']==1]['Survived'],label='Survived',shade=True)\n",
    "sns.kdeplot(df[df['familly-size']>=2]['Survived'],label='Not Survived',shade=True)\n",
    "plt.legend()\n",
    "plt.show()"
   ]
  },
  {
   "cell_type": "code",
   "execution_count": 89,
   "id": "d43170e5",
   "metadata": {},
   "outputs": [
    {
     "data": {
      "text/html": [
       "<div>\n",
       "<style scoped>\n",
       "    .dataframe tbody tr th:only-of-type {\n",
       "        vertical-align: middle;\n",
       "    }\n",
       "\n",
       "    .dataframe tbody tr th {\n",
       "        vertical-align: top;\n",
       "    }\n",
       "\n",
       "    .dataframe thead th {\n",
       "        text-align: right;\n",
       "    }\n",
       "</style>\n",
       "<table border=\"1\" class=\"dataframe\">\n",
       "  <thead>\n",
       "    <tr style=\"text-align: right;\">\n",
       "      <th>familly-size</th>\n",
       "      <th>1</th>\n",
       "      <th>2</th>\n",
       "      <th>3</th>\n",
       "      <th>4</th>\n",
       "      <th>5</th>\n",
       "      <th>6</th>\n",
       "      <th>7</th>\n",
       "      <th>8</th>\n",
       "      <th>11</th>\n",
       "    </tr>\n",
       "    <tr>\n",
       "      <th>Survived</th>\n",
       "      <th></th>\n",
       "      <th></th>\n",
       "      <th></th>\n",
       "      <th></th>\n",
       "      <th></th>\n",
       "      <th></th>\n",
       "      <th></th>\n",
       "      <th></th>\n",
       "      <th></th>\n",
       "    </tr>\n",
       "  </thead>\n",
       "  <tbody>\n",
       "    <tr>\n",
       "      <th>0</th>\n",
       "      <td>70.0</td>\n",
       "      <td>45.0</td>\n",
       "      <td>42.0</td>\n",
       "      <td>28.0</td>\n",
       "      <td>80.0</td>\n",
       "      <td>86.0</td>\n",
       "      <td>67.0</td>\n",
       "      <td>100.0</td>\n",
       "      <td>100.0</td>\n",
       "    </tr>\n",
       "    <tr>\n",
       "      <th>1</th>\n",
       "      <td>30.0</td>\n",
       "      <td>55.0</td>\n",
       "      <td>58.0</td>\n",
       "      <td>72.0</td>\n",
       "      <td>20.0</td>\n",
       "      <td>14.0</td>\n",
       "      <td>33.0</td>\n",
       "      <td>0.0</td>\n",
       "      <td>0.0</td>\n",
       "    </tr>\n",
       "  </tbody>\n",
       "</table>\n",
       "</div>"
      ],
      "text/plain": [
       "familly-size    1     2     3     4     5     6     7      8      11\n",
       "Survived                                                            \n",
       "0             70.0  45.0  42.0  28.0  80.0  86.0  67.0  100.0  100.0\n",
       "1             30.0  55.0  58.0  72.0  20.0  14.0  33.0    0.0    0.0"
      ]
     },
     "execution_count": 89,
     "metadata": {},
     "output_type": "execute_result"
    }
   ],
   "source": [
    "np.round(pd.crosstab(df['Survived'],df['familly-size'],normalize='columns')*100,0)"
   ]
  },
  {
   "cell_type": "markdown",
   "id": "0193304f",
   "metadata": {},
   "source": [
    "<p> _____________________________________________</p>"
   ]
  },
  {
   "cell_type": "markdown",
   "id": "a2d55631",
   "metadata": {},
   "source": [
    "10- Did ticket number (Ticket) or type of ticket (numeric vs. alphanumeric) correlate with survival?\n",
    "\n",
    "Examine if there's any pattern in survival rates based on ticket types or specific numbers."
   ]
  },
  {
   "cell_type": "code",
   "execution_count": 90,
   "id": "95bede9b",
   "metadata": {},
   "outputs": [
    {
     "data": {
      "text/html": [
       "<div>\n",
       "<style scoped>\n",
       "    .dataframe tbody tr th:only-of-type {\n",
       "        vertical-align: middle;\n",
       "    }\n",
       "\n",
       "    .dataframe tbody tr th {\n",
       "        vertical-align: top;\n",
       "    }\n",
       "\n",
       "    .dataframe thead th {\n",
       "        text-align: right;\n",
       "    }\n",
       "</style>\n",
       "<table border=\"1\" class=\"dataframe\">\n",
       "  <thead>\n",
       "    <tr style=\"text-align: right;\">\n",
       "      <th></th>\n",
       "      <th>Ticket</th>\n",
       "      <th>TicketType</th>\n",
       "    </tr>\n",
       "  </thead>\n",
       "  <tbody>\n",
       "    <tr>\n",
       "      <th>0</th>\n",
       "      <td>A/5 21171</td>\n",
       "      <td>Alphanumeric</td>\n",
       "    </tr>\n",
       "    <tr>\n",
       "      <th>1</th>\n",
       "      <td>PC 17599</td>\n",
       "      <td>Alphanumeric</td>\n",
       "    </tr>\n",
       "    <tr>\n",
       "      <th>2</th>\n",
       "      <td>STON/O2. 3101282</td>\n",
       "      <td>Alphanumeric</td>\n",
       "    </tr>\n",
       "    <tr>\n",
       "      <th>3</th>\n",
       "      <td>113803</td>\n",
       "      <td>Numeric</td>\n",
       "    </tr>\n",
       "    <tr>\n",
       "      <th>4</th>\n",
       "      <td>373450</td>\n",
       "      <td>Numeric</td>\n",
       "    </tr>\n",
       "  </tbody>\n",
       "</table>\n",
       "</div>"
      ],
      "text/plain": [
       "             Ticket    TicketType\n",
       "0         A/5 21171  Alphanumeric\n",
       "1          PC 17599  Alphanumeric\n",
       "2  STON/O2. 3101282  Alphanumeric\n",
       "3            113803       Numeric\n",
       "4            373450       Numeric"
      ]
     },
     "execution_count": 90,
     "metadata": {},
     "output_type": "execute_result"
    }
   ],
   "source": [
    "# Classify tickets as numeric or alphanumeric\n",
    "df['TicketType'] = df['Ticket'].apply(lambda x: 'Numeric' if x.isdigit() else 'Alphanumeric')\n",
    "\n",
    "# Display the first few rows to verify\n",
    "df[['Ticket', 'TicketType']].head()"
   ]
  },
  {
   "cell_type": "code",
   "execution_count": 92,
   "id": "4e8eece1",
   "metadata": {},
   "outputs": [
    {
     "data": {
      "image/png": "[encoded data removed]",
      "text/plain": [
       "<Figure size 640x480 with 1 Axes>"
      ]
     },
     "metadata": {},
     "output_type": "display_data"
    }
   ],
   "source": [
    "# Plot survival rate by ticket type\n",
    "sns.barplot(x='TicketType', y='Survived', data=df, ci=None)\n",
    "\n",
    "# Add labels and title\n",
    "plt.title('Survival Rate by Ticket Type (Numeric vs. Alphanumeric)')\n",
    "plt.xlabel('Ticket Type')\n",
    "plt.ylabel('Survival Rate')\n",
    "\n",
    "plt.show()"
   ]
  },
  {
   "cell_type": "code",
   "execution_count": 93,
   "id": "ddd92745",
   "metadata": {},
   "outputs": [
    {
     "data": {
      "text/html": [
       "<div>\n",
       "<style scoped>\n",
       "    .dataframe tbody tr th:only-of-type {\n",
       "        vertical-align: middle;\n",
       "    }\n",
       "\n",
       "    .dataframe tbody tr th {\n",
       "        vertical-align: top;\n",
       "    }\n",
       "\n",
       "    .dataframe thead th {\n",
       "        text-align: right;\n",
       "    }\n",
       "</style>\n",
       "<table border=\"1\" class=\"dataframe\">\n",
       "  <thead>\n",
       "    <tr style=\"text-align: right;\">\n",
       "      <th></th>\n",
       "      <th>Ticket</th>\n",
       "      <th>TicketNumeric</th>\n",
       "    </tr>\n",
       "  </thead>\n",
       "  <tbody>\n",
       "    <tr>\n",
       "      <th>0</th>\n",
       "      <td>A/5 21171</td>\n",
       "      <td>521171.0</td>\n",
       "    </tr>\n",
       "    <tr>\n",
       "      <th>1</th>\n",
       "      <td>PC 17599</td>\n",
       "      <td>17599.0</td>\n",
       "    </tr>\n",
       "    <tr>\n",
       "      <th>2</th>\n",
       "      <td>STON/O2. 3101282</td>\n",
       "      <td>23101282.0</td>\n",
       "    </tr>\n",
       "    <tr>\n",
       "      <th>3</th>\n",
       "      <td>113803</td>\n",
       "      <td>113803.0</td>\n",
       "    </tr>\n",
       "    <tr>\n",
       "      <th>4</th>\n",
       "      <td>373450</td>\n",
       "      <td>373450.0</td>\n",
       "    </tr>\n",
       "  </tbody>\n",
       "</table>\n",
       "</div>"
      ],
      "text/plain": [
       "             Ticket  TicketNumeric\n",
       "0         A/5 21171       521171.0\n",
       "1          PC 17599        17599.0\n",
       "2  STON/O2. 3101282     23101282.0\n",
       "3            113803       113803.0\n",
       "4            373450       373450.0"
      ]
     },
     "execution_count": 93,
     "metadata": {},
     "output_type": "execute_result"
    }
   ],
   "source": [
    "# Extract the numeric part of the ticket number (if present)\n",
    "df['TicketNumeric'] = df['Ticket'].apply(lambda x: ''.join(filter(str.isdigit, x)) if any(c.isdigit() for c in x) else np.nan)\n",
    "\n",
    "# Convert to numeric data type\n",
    "df['TicketNumeric'] = pd.to_numeric(df['TicketNumeric'], errors='coerce')\n",
    "\n",
    "# Display the first few rows to check the TicketNumeric column\n",
    "df[['Ticket', 'TicketNumeric']].head()"
   ]
  },
  {
   "cell_type": "code",
   "execution_count": 94,
   "id": "279d999d",
   "metadata": {},
   "outputs": [
    {
     "data": {
      "image/png": "[encoded data removed]",
      "text/plain": [
       "<Figure size 1000x600 with 1 Axes>"
      ]
     },
     "metadata": {},
     "output_type": "display_data"
    }
   ],
   "source": [
    "# Create ticket number ranges (bins)\n",
    "bins = [0, 50000, 100000, 150000, 200000]\n",
    "labels = ['0-50K', '50K-100K', '100K-150K', '150K-200K']\n",
    "\n",
    "df['TicketRange'] = pd.cut(df['TicketNumeric'], bins=bins, labels=labels)\n",
    "\n",
    "# Plot survival rate by ticket range\n",
    "plt.figure(figsize=(10,6))\n",
    "sns.barplot(x='TicketRange', y='Survived', data=df, ci=None)\n",
    "\n",
    "# Add labels and title\n",
    "plt.title('Survival Rate by Ticket Number Range')\n",
    "plt.xlabel('Ticket Number Range')\n",
    "plt.ylabel('Survival Rate')\n",
    "\n",
    "plt.show()"
   ]
  },
  {
   "cell_type": "code",
   "execution_count": 95,
   "id": "a173a08a",
   "metadata": {},
   "outputs": [
    {
     "name": "stdout",
     "output_type": "stream",
     "text": [
      "TicketType\n",
      "Alphanumeric    0.382609\n",
      "Numeric         0.384266\n",
      "Name: Survived, dtype: float64\n",
      "TicketRange\n",
      "0-50K        0.493540\n",
      "50K-100K     0.117647\n",
      "100K-150K    0.513889\n",
      "150K-200K         NaN\n",
      "Name: Survived, dtype: float64\n"
     ]
    }
   ],
   "source": [
    "# Survival rate for ticket type\n",
    "ticket_type_survival = df.groupby('TicketType')['Survived'].mean()\n",
    "print(ticket_type_survival)\n",
    "\n",
    "# Survival rate for ticket number range\n",
    "ticket_range_survival = df.groupby('TicketRange')['Survived'].mean()\n",
    "print(ticket_range_survival)"
   ]
  },
  {
   "cell_type": "code",
   "execution_count": null,
   "id": "5abf71db",
   "metadata": {},
   "outputs": [],
   "source": []
  }
 ],
 "metadata": {
  "kernelspec": {
   "display_name": "Python 3 (ipykernel)",
   "language": "python",
   "name": "python3"
  },
  "language_info": {
   "codemirror_mode": {
    "name": "ipython",
    "version": 3
   },
   "file_extension": ".py",
   "mimetype": "text/x-python",
   "name": "python",
   "nbconvert_exporter": "python",
   "pygments_lexer": "ipython3",
   "version": "3.9.13"
  }
 },
 "nbformat": 4,
 "nbformat_minor": 5
}
